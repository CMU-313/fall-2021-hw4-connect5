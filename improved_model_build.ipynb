{
 "cells": [
  {
   "cell_type": "code",
   "execution_count": 1,
   "id": "64be39f8",
   "metadata": {},
   "outputs": [],
   "source": [
    "import pandas as pd\n",
    "import numpy as np\n",
    "df = pd.read_csv('data/student-mat.csv', sep=';')"
   ]
  },
  {
   "cell_type": "markdown",
   "id": "26fc3ce7",
   "metadata": {},
   "source": [
    "The goal is to predict the quality of the student. We will build a predictor based on the final grade (G3).\n",
    "Becasue we are trying to find quality students. In this model we define a quality student as one who achieves a final grade of 15 or higher. "
   ]
  },
  {
   "cell_type": "code",
   "execution_count": 2,
   "id": "72175ebe",
   "metadata": {},
   "outputs": [],
   "source": [
    "include = ['health', 'absences','age','G2','G3']\n",
    "df.drop(columns=df.columns.difference(include), inplace=True)\n",
    "df['qual_student'] = np.where(df['G3']>=15, 1, 0)\n",
    "df.drop(columns='G3', inplace=True) # drop the G3 score"
   ]
  },
  {
   "cell_type": "code",
   "execution_count": 3,
   "id": "ec687b15",
   "metadata": {},
   "outputs": [
    {
     "data": {
      "text/plain": [
       "RandomForestClassifier(n_estimators=1000)"
      ]
     },
     "execution_count": 3,
     "metadata": {},
     "output_type": "execute_result"
    }
   ],
   "source": [
    "from sklearn.ensemble import RandomForestClassifier as rf\n",
    "import sklearn\n",
    "dependent_variable = 'qual_student'\n",
    "x = df[df.columns.difference([dependent_variable])]\n",
    "y = df[dependent_variable]\n",
    "clf = rf(n_estimators = 1000)\n",
    "clf.fit(x, y)"
   ]
  },
  {
   "cell_type": "code",
   "execution_count": 4,
   "id": "c66679b8",
   "metadata": {},
   "outputs": [
    {
     "data": {
      "text/plain": [
       "0.9861111111111112"
      ]
     },
     "execution_count": 4,
     "metadata": {},
     "output_type": "execute_result"
    }
   ],
   "source": [
    "pred = clf.predict(x)\n",
    "sklearn.metrics.f1_score(y, pred, average='binary')"
   ]
  },
  {
   "cell_type": "markdown",
   "id": "0573a4dc",
   "metadata": {},
   "source": [
    "We get a much better f1 score!"
   ]
  },
  {
   "cell_type": "code",
   "execution_count": 5,
   "id": "512f843a",
   "metadata": {},
   "outputs": [
    {
     "data": {
      "text/plain": [
       "['dockerfile/apps/improved_model.pkl']"
      ]
     },
     "execution_count": 5,
     "metadata": {},
     "output_type": "execute_result"
    }
   ],
   "source": [
    "import joblib\n",
    "joblib.dump(clf, 'dockerfile/apps/improved_model.pkl')"
   ]
  },
  {
   "cell_type": "code",
   "execution_count": 6,
   "id": "54f214b5",
   "metadata": {},
   "outputs": [
    {
     "name": "stderr",
     "output_type": "stream",
     "text": [
      "/Library/Frameworks/Python.framework/Versions/3.9/lib/python3.9/site-packages/sklearn/base.py:488: FutureWarning: The feature names should match those that were passed during fit. Starting version 1.2, an error will be raised.\n",
      "Feature names must be in the same order as they were in fit.\n",
      "\n",
      "  warnings.warn(message, FutureWarning)\n"
     ]
    },
    {
     "data": {
      "text/plain": [
       "array([1])"
      ]
     },
     "execution_count": 6,
     "metadata": {},
     "output_type": "execute_result"
    }
   ],
   "source": [
    "query_df = pd.DataFrame({ 'age' : pd.Series(20) ,'health' : pd.Series(12) ,'absences' : pd.Series(10),'G2' : pd.Series(11)})\n",
    "pred = clf.predict(query_df)\n",
    "pred"
   ]
  },
  {
   "cell_type": "code",
   "execution_count": null,
   "id": "5818eb9d",
   "metadata": {},
   "outputs": [],
   "source": []
  }
 ],
 "metadata": {
  "kernelspec": {
   "display_name": "Python 3",
   "language": "python",
   "name": "python3"
  },
  "language_info": {
   "codemirror_mode": {
    "name": "ipython",
    "version": 3
   },
   "file_extension": ".py",
   "mimetype": "text/x-python",
   "name": "python",
   "nbconvert_exporter": "python",
   "pygments_lexer": "ipython3",
   "version": "3.9.1"
  }
 },
 "nbformat": 4,
 "nbformat_minor": 5
}
